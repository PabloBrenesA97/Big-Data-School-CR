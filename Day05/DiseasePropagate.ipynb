{
 "cells": [
  {
   "cell_type": "code",
   "execution_count": 1,
   "metadata": {},
   "outputs": [],
   "source": [
    "class Person(object):\n",
    "    def __init__(self):\n",
    "        self.current_status = \"well\"\n",
    "        self.days_sick = 0\n",
    "        self.is_inoculated = False\n",
    "        self.is_infected = False\n",
    "        self.Interaction = []\n",
    "        \n",
    "    def infect(self, days):\n",
    "        self.days_sick = days\n",
    "        self.is_infected = True\n",
    "        if (self.is_inoculated):\n",
    "            self.is_infected = False\n",
    "            self.days_sick = 0\n",
    "            \n",
    "    def update(self):\n",
    "        if (self.current_status == \"well\" \n",
    "            and self.is_infected == True):\n",
    "            self.current_status = \"sick\"\n",
    "        elif (self.current_status == \"sick\"):\n",
    "            self.days_sick = self.days_sick-1\n",
    "            if (self.days_sick == 0):\n",
    "                self.current_status = \"recovered\"\n",
    "                self.is_inoculated = True\n",
    "                self.is_infected = False"
   ]
  },
  {
   "cell_type": "code",
   "execution_count": 3,
   "metadata": {},
   "outputs": [],
   "source": [
    "class Population(object):\n",
    "    import random as rnd\n",
    "    def __init__(self, number=10):\n",
    "        self.People = []\n",
    "        self.number = number\n",
    "        if (number < 10):\n",
    "            self.number = 10\n",
    "            \n",
    "        ##infect one person\n",
    "        patient_zero = self.rnd.randint(0,number-1)\n",
    "        for i in range(0,number):\n",
    "            p = Person()\n",
    "            self.People.append(p)\n",
    "            \n",
    "        self.People[patient_zero].infect(5)\n",
    "        \n",
    "    def number_of_sick(self):\n",
    "        sick_count = 0\n",
    "        for p in self.People:\n",
    "            if (p.is_infected):\n",
    "                sick_count = sick_count+1\n",
    "        \n",
    "        return sick_count\n",
    "    \n",
    "    def number_of_inoculated(self):\n",
    "        inoculated_count = 0\n",
    "        for p in self.People:\n",
    "            if (p.is_inoculated):\n",
    "                inoculated_count = inoculated_count+1\n",
    "        return inoculated_count\n",
    "    \n",
    "    def update(self):\n",
    "        self.interact()\n",
    "            \n",
    "    def interact(self):\n",
    "        person_index = 0\n",
    "        for p in self.People:\n",
    "            #print(\"Person \" + str(person_index) + \" interacted with:\")\n",
    "            ##I need to build a list of 10 people\n",
    "            for i in range(0,10):\n",
    "                r = rnd.randint(0,self.number-1)\n",
    "                p.Interaction.append(self.People[r])\n",
    "                #print (\"     Person Number: \" + str(r))\n",
    "                if (self.People[r].is_infected and not p.is_inoculated\n",
    "                    and not p.is_infected):\n",
    "                    bad_luck = rnd.random()\n",
    "                    if (bad_luck > .9):\n",
    "                        p.infect(5)\n",
    "                        #print(\"     just got sick :(\")\n",
    "                        break\n",
    "            \n",
    "            p.update()\n",
    "            \n",
    "            person_index = person_index + 1\n",
    "        \n",
    "        \n",
    "        return 0\n"
   ]
  },
  {
   "cell_type": "code",
   "execution_count": null,
   "metadata": {},
   "outputs": [],
   "source": []
  },
  {
   "cell_type": "code",
   "execution_count": 4,
   "metadata": {},
   "outputs": [
    {
     "name": "stdout",
     "output_type": "stream",
     "text": [
      "Joe is well\n",
      "Joe is well\n",
      "Joe is sick 5 to go\n",
      "Joe is sick 4 to go\n",
      "Joe is sick 3 to go\n",
      "Joe is sick 2 to go\n",
      "Joe is sick 1 to go\n",
      "Joe is recovered\n"
     ]
    }
   ],
   "source": [
    "import random as rnd\n",
    "joe = Person()\n",
    "while (not joe.is_inoculated):\n",
    "    joe.update()\n",
    "    print (\"Joe is \" + joe.current_status, end=\"\")\n",
    "    if (joe.is_infected):\n",
    "        print (\" \" + str(joe.days_sick) + \" to go\", end=\"\")\n",
    "    print()\n",
    "    bad_luck = rnd.random()\n",
    "    if (bad_luck > .90 and not joe.is_inoculated):\n",
    "        joe.infect(5)"
   ]
  },
  {
   "cell_type": "code",
   "execution_count": 5,
   "metadata": {},
   "outputs": [
    {
     "data": {
      "text/plain": [
       "True"
      ]
     },
     "execution_count": 5,
     "metadata": {},
     "output_type": "execute_result"
    }
   ],
   "source": [
    "joe.is_inoculated"
   ]
  },
  {
   "cell_type": "code",
   "execution_count": 6,
   "metadata": {},
   "outputs": [],
   "source": [
    "while (not joe.is_inoculated):\n",
    "    joe.update()\n",
    "    print (\"Joe is \" + joe.current_status, end=\"\")\n",
    "    if (joe.is_infected):\n",
    "        print (\" \" + str(joe.days_sick) + \" to go\", end=\"\")\n",
    "    print()\n",
    "    bad_luck = rnd.random()\n",
    "    if (bad_luck > .90 and not joe.is_inoculated):\n",
    "        joe.infect(5)"
   ]
  },
  {
   "cell_type": "code",
   "execution_count": 7,
   "metadata": {
    "scrolled": false
   },
   "outputs": [
    {
     "name": "stdout",
     "output_type": "stream",
     "text": [
      "Number sick:1\n",
      "Number sick:1\n",
      "Number sick:1\n",
      "Number sick:2\n",
      "Number sick:3\n",
      "Number sick:10\n",
      "Number sick:20\n",
      "Number sick:39\n",
      "Number sick:113\n",
      "Number sick:270\n",
      "Number sick:478\n",
      "Number sick:715\n",
      "Number sick:835\n",
      "Number sick:842\n",
      "Number sick:706\n",
      "Number sick:501\n",
      "Number sick:255\n",
      "Number sick:119\n",
      "Number sick:37\n",
      "Number sick:15\n",
      "Number sick:5\n",
      "Number sick:3\n",
      "Total days of disease propogation: 22\n",
      "Maximum number of sick people:842\n",
      "Population that is inoculated:994\n"
     ]
    }
   ],
   "source": [
    "import random as rnd\n",
    "my_population = Population(1000)\n",
    "day_count = 0\n",
    "max_sick = 0\n",
    "while (my_population.number_of_sick() > 0):\n",
    "    print(\"Number sick:\" + str(my_population.number_of_sick()))\n",
    "    max_sick = max(max_sick, my_population.number_of_sick())\n",
    "    day_count = day_count+1\n",
    "    my_population.update()\n",
    "\n",
    "print(\"Total days of disease propogation: \" + str(day_count))\n",
    "print(\"Maximum number of sick people:\" + str(max_sick))\n",
    "print(\"Population that is inoculated:\" + \n",
    "      str(my_population.number_of_inoculated()))"
   ]
  },
  {
   "cell_type": "code",
   "execution_count": 179,
   "metadata": {},
   "outputs": [
    {
     "data": {
      "text/plain": [
       "0"
      ]
     },
     "execution_count": 179,
     "metadata": {},
     "output_type": "execute_result"
    }
   ],
   "source": []
  },
  {
   "cell_type": "code",
   "execution_count": 180,
   "metadata": {},
   "outputs": [
    {
     "data": {
      "text/plain": [
       "__main__.Person"
      ]
     },
     "execution_count": 180,
     "metadata": {},
     "output_type": "execute_result"
    }
   ],
   "source": []
  },
  {
   "cell_type": "code",
   "execution_count": null,
   "metadata": {},
   "outputs": [],
   "source": []
  },
  {
   "cell_type": "code",
   "execution_count": null,
   "metadata": {},
   "outputs": [],
   "source": []
  }
 ],
 "metadata": {
  "kernelspec": {
   "display_name": "Python 3",
   "language": "python",
   "name": "python3"
  },
  "language_info": {
   "codemirror_mode": {
    "name": "ipython",
    "version": 3
   },
   "file_extension": ".py",
   "mimetype": "text/x-python",
   "name": "python",
   "nbconvert_exporter": "python",
   "pygments_lexer": "ipython3",
   "version": "3.7.1"
  }
 },
 "nbformat": 4,
 "nbformat_minor": 2
}
