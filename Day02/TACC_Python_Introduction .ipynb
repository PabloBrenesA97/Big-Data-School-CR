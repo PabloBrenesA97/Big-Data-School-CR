{
 "cells": [
  {
   "cell_type": "markdown",
   "metadata": {},
   "source": [
    "# Introduction Python #1\n"
   ]
  },
  {
   "cell_type": "code",
   "execution_count": 5,
   "metadata": {},
   "outputs": [
    {
     "name": "stdout",
     "output_type": "stream",
     "text": [
      "Hello World!\n"
     ]
    }
   ],
   "source": [
    "print(\"Hello World!\")"
   ]
  },
  {
   "cell_type": "code",
   "execution_count": 6,
   "metadata": {},
   "outputs": [
    {
     "name": "stdout",
     "output_type": "stream",
     "text": [
      "5\n",
      "2\n"
     ]
    }
   ],
   "source": [
    "print(5)\n",
    "print(1+1)"
   ]
  },
  {
   "cell_type": "code",
   "execution_count": 8,
   "metadata": {},
   "outputs": [],
   "source": [
    "five = 5\n",
    "one = 1\n",
    "twodot = 2.0\n",
    "mystring = \"hello World!\"\n",
    "myname = \"Jose Pablo\"\n"
   ]
  },
  {
   "cell_type": "code",
   "execution_count": 10,
   "metadata": {},
   "outputs": [
    {
     "data": {
      "text/plain": [
       "5"
      ]
     },
     "execution_count": 10,
     "metadata": {},
     "output_type": "execute_result"
    }
   ],
   "source": [
    "five"
   ]
  },
  {
   "cell_type": "code",
   "execution_count": 12,
   "metadata": {},
   "outputs": [
    {
     "name": "stdout",
     "output_type": "stream",
     "text": [
      "5\n"
     ]
    }
   ],
   "source": [
    "print (five)"
   ]
  },
  {
   "cell_type": "code",
   "execution_count": 13,
   "metadata": {},
   "outputs": [
    {
     "name": "stdout",
     "output_type": "stream",
     "text": [
      "Jose Pablo\n"
     ]
    }
   ],
   "source": [
    "print (myname)"
   ]
  },
  {
   "cell_type": "code",
   "execution_count": 14,
   "metadata": {},
   "outputs": [
    {
     "name": "stdout",
     "output_type": "stream",
     "text": [
      "<class 'int'>\n"
     ]
    }
   ],
   "source": [
    "print (type(five))"
   ]
  },
  {
   "cell_type": "code",
   "execution_count": 15,
   "metadata": {},
   "outputs": [
    {
     "name": "stdout",
     "output_type": "stream",
     "text": [
      "<class 'str'>\n"
     ]
    }
   ],
   "source": [
    "print (type(mystring))"
   ]
  },
  {
   "cell_type": "code",
   "execution_count": 16,
   "metadata": {},
   "outputs": [
    {
     "name": "stdout",
     "output_type": "stream",
     "text": [
      "<class 'float'>\n"
     ]
    }
   ],
   "source": [
    "print (type(twodot))"
   ]
  },
  {
   "cell_type": "code",
   "execution_count": 17,
   "metadata": {},
   "outputs": [
    {
     "name": "stdout",
     "output_type": "stream",
     "text": [
      "2\n"
     ]
    }
   ],
   "source": [
    "two = 2\n",
    "print (two)"
   ]
  },
  {
   "cell_type": "code",
   "execution_count": 18,
   "metadata": {},
   "outputs": [
    {
     "name": "stdout",
     "output_type": "stream",
     "text": [
      "0.4\n"
     ]
    }
   ],
   "source": [
    "print (two/five)"
   ]
  },
  {
   "cell_type": "code",
   "execution_count": 19,
   "metadata": {},
   "outputs": [],
   "source": [
    "c = 0"
   ]
  },
  {
   "cell_type": "code",
   "execution_count": 20,
   "metadata": {},
   "outputs": [],
   "source": [
    "c = five/two"
   ]
  },
  {
   "cell_type": "code",
   "execution_count": 21,
   "metadata": {},
   "outputs": [
    {
     "data": {
      "text/plain": [
       "2.5"
      ]
     },
     "execution_count": 21,
     "metadata": {},
     "output_type": "execute_result"
    }
   ],
   "source": [
    "c"
   ]
  },
  {
   "cell_type": "code",
   "execution_count": 22,
   "metadata": {},
   "outputs": [
    {
     "data": {
      "text/plain": [
       "2"
      ]
     },
     "execution_count": 22,
     "metadata": {},
     "output_type": "execute_result"
    }
   ],
   "source": [
    "int(c) # Casting int "
   ]
  },
  {
   "cell_type": "code",
   "execution_count": 23,
   "metadata": {},
   "outputs": [
    {
     "ename": "ValueError",
     "evalue": "invalid literal for int() with base 10: 'hello World!'",
     "output_type": "error",
     "traceback": [
      "\u001b[0;31m---------------------------------------------------------------------------\u001b[0m",
      "\u001b[0;31mValueError\u001b[0m                                Traceback (most recent call last)",
      "\u001b[0;32m<ipython-input-23-c8ab804c662a>\u001b[0m in \u001b[0;36m<module>\u001b[0;34m()\u001b[0m\n\u001b[0;32m----> 1\u001b[0;31m \u001b[0mint\u001b[0m\u001b[0;34m(\u001b[0m\u001b[0mmystring\u001b[0m\u001b[0;34m)\u001b[0m\u001b[0;34m\u001b[0m\u001b[0m\n\u001b[0m",
      "\u001b[0;31mValueError\u001b[0m: invalid literal for int() with base 10: 'hello World!'"
     ]
    }
   ],
   "source": [
    "int(mystring)"
   ]
  },
  {
   "cell_type": "code",
   "execution_count": 25,
   "metadata": {},
   "outputs": [
    {
     "name": "stdout",
     "output_type": "stream",
     "text": [
      "2\n"
     ]
    }
   ],
   "source": [
    "print (5//2)"
   ]
  },
  {
   "cell_type": "code",
   "execution_count": 29,
   "metadata": {},
   "outputs": [
    {
     "name": "stdout",
     "output_type": "stream",
     "text": [
      "28\n"
     ]
    }
   ],
   "source": [
    "print(5**2+3)"
   ]
  },
  {
   "cell_type": "code",
   "execution_count": 28,
   "metadata": {},
   "outputs": [
    {
     "name": "stdout",
     "output_type": "stream",
     "text": [
      "HelloHelloHelloHelloHello\n"
     ]
    }
   ],
   "source": [
    "print(\"Hello\" * 5)"
   ]
  },
  {
   "cell_type": "code",
   "execution_count": 32,
   "metadata": {},
   "outputs": [
    {
     "name": "stdout",
     "output_type": "stream",
     "text": [
      "<class 'float'>\n",
      "<class 'float'>\n"
     ]
    }
   ],
   "source": [
    "num1 = 5.0/2.0\n",
    "num2 = 5/2\n",
    "print(type(num1))\n",
    "print(type(num2))"
   ]
  },
  {
   "cell_type": "code",
   "execution_count": 33,
   "metadata": {},
   "outputs": [
    {
     "name": "stdout",
     "output_type": "stream",
     "text": [
      "Please enter a number:42\n"
     ]
    }
   ],
   "source": [
    "num = input(\"Please enter a number:\")"
   ]
  },
  {
   "cell_type": "code",
   "execution_count": 34,
   "metadata": {},
   "outputs": [
    {
     "data": {
      "text/plain": [
       "str"
      ]
     },
     "execution_count": 34,
     "metadata": {},
     "output_type": "execute_result"
    }
   ],
   "source": [
    "type(num)"
   ]
  },
  {
   "cell_type": "code",
   "execution_count": 35,
   "metadata": {},
   "outputs": [
    {
     "ename": "TypeError",
     "evalue": "must be str, not int",
     "output_type": "error",
     "traceback": [
      "\u001b[0;31m---------------------------------------------------------------------------\u001b[0m",
      "\u001b[0;31mTypeError\u001b[0m                                 Traceback (most recent call last)",
      "\u001b[0;32m<ipython-input-35-cfe9caf32ffe>\u001b[0m in \u001b[0;36m<module>\u001b[0;34m()\u001b[0m\n\u001b[0;32m----> 1\u001b[0;31m \u001b[0mprint\u001b[0m \u001b[0;34m(\u001b[0m\u001b[0mnum\u001b[0m \u001b[0;34m+\u001b[0m \u001b[0;36m3\u001b[0m\u001b[0;34m)\u001b[0m\u001b[0;34m\u001b[0m\u001b[0m\n\u001b[0m",
      "\u001b[0;31mTypeError\u001b[0m: must be str, not int"
     ]
    }
   ],
   "source": [
    "print (num + 3) # Because is a number ?"
   ]
  },
  {
   "cell_type": "code",
   "execution_count": 37,
   "metadata": {},
   "outputs": [
    {
     "data": {
      "text/plain": [
       "False"
      ]
     },
     "execution_count": 37,
     "metadata": {},
     "output_type": "execute_result"
    }
   ],
   "source": [
    "5==1"
   ]
  },
  {
   "cell_type": "code",
   "execution_count": 38,
   "metadata": {},
   "outputs": [
    {
     "data": {
      "text/plain": [
       "True"
      ]
     },
     "execution_count": 38,
     "metadata": {},
     "output_type": "execute_result"
    }
   ],
   "source": [
    "five>1"
   ]
  },
  {
   "cell_type": "code",
   "execution_count": 39,
   "metadata": {},
   "outputs": [
    {
     "data": {
      "text/plain": [
       "False"
      ]
     },
     "execution_count": 39,
     "metadata": {},
     "output_type": "execute_result"
    }
   ],
   "source": [
    "five >one and five < twodot"
   ]
  },
  {
   "cell_type": "code",
   "execution_count": 42,
   "metadata": {},
   "outputs": [
    {
     "name": "stdout",
     "output_type": "stream",
     "text": [
      "five is not greater than one\n"
     ]
    }
   ],
   "source": [
    "if (five>one):\n",
    "    print(\"five is greater than one\")\n",
    "else:\n",
    "    print(\"five is not greater than one\")"
   ]
  },
  {
   "cell_type": "code",
   "execution_count": 41,
   "metadata": {},
   "outputs": [],
   "source": [
    "five = 0"
   ]
  },
  {
   "cell_type": "code",
   "execution_count": 3,
   "metadata": {},
   "outputs": [
    {
     "name": "stdout",
     "output_type": "stream",
     "text": [
      "Please enter a number:4\n",
      "The number 4 is a even number!\n"
     ]
    }
   ],
   "source": [
    "simple_input = int(input(\"Please enter a number:\"))\n",
    "if(simple_input % 2 == 0):\n",
    "    print(\"The number %s is a even number!\"%(simple_input))\n",
    "else:\n",
    "    print(\"The number %s is a odd number!\"%(simple_input))"
   ]
  },
  {
   "cell_type": "markdown",
   "metadata": {},
   "source": [
    "### Loops"
   ]
  },
  {
   "cell_type": "code",
   "execution_count": 4,
   "metadata": {},
   "outputs": [
    {
     "name": "stdout",
     "output_type": "stream",
     "text": [
      "Let's go 0\n",
      "Let's go 1\n",
      "Let's go 2\n"
     ]
    }
   ],
   "source": [
    "for x in range(0,3):\n",
    "    print(\"Let's go %d\"% x)"
   ]
  },
  {
   "cell_type": "code",
   "execution_count": 12,
   "metadata": {},
   "outputs": [
    {
     "name": "stdout",
     "output_type": "stream",
     "text": [
      "Let's go  0 0\n",
      "Let's go  0 1\n",
      "Let's go  0 2\n",
      "Let's go  0 3\n",
      "Let's go  0 4\n",
      "Let's go  0 5\n",
      "Hurray!!!\n",
      "Let's go  0 6\n",
      "Let's go  0 7\n",
      "Let's go  0 8\n",
      "Let's go  0 9\n",
      "hurray!\n",
      "Let's go  1 0\n",
      "Let's go  1 1\n",
      "Let's go  1 2\n",
      "Let's go  1 3\n",
      "Let's go  1 4\n",
      "Let's go  1 5\n",
      "Hurray!!!\n",
      "Let's go  1 6\n",
      "Let's go  1 7\n",
      "Let's go  1 8\n",
      "Let's go  1 9\n",
      "hurray!\n",
      "Let's go  2 0\n",
      "Let's go  2 1\n",
      "Let's go  2 2\n",
      "Let's go  2 3\n",
      "Let's go  2 4\n",
      "Let's go  2 5\n",
      "Hurray!!!\n",
      "Let's go  2 6\n",
      "Let's go  2 7\n",
      "Let's go  2 8\n",
      "Let's go  2 9\n",
      "hurray!\n",
      "Let's go  3 0\n",
      "Let's go  3 1\n",
      "Let's go  3 2\n",
      "Let's go  3 3\n",
      "Let's go  3 4\n",
      "Let's go  3 5\n",
      "Hurray!!!\n",
      "Let's go  3 6\n",
      "Let's go  3 7\n",
      "Let's go  3 8\n",
      "Let's go  3 9\n",
      "hurray!\n",
      "Let's go  4 0\n",
      "Let's go  4 1\n",
      "Let's go  4 2\n",
      "Let's go  4 3\n",
      "Let's go  4 4\n",
      "Let's go  4 5\n",
      "Hurray!!!\n",
      "Let's go  4 6\n",
      "Let's go  4 7\n",
      "Let's go  4 8\n",
      "Let's go  4 9\n"
     ]
    }
   ],
   "source": [
    "x = 0\n",
    "y = 0\n",
    "for x in range(0,5):\n",
    "    if(y==9):\n",
    "        print(\"hurray!\")\n",
    "    for y in range(0,10):\n",
    "        print(\"Let's go \",x,y)\n",
    "        if(y == 5):\n",
    "            print(\"Hurray!!!\")"
   ]
  },
  {
   "cell_type": "code",
   "execution_count": 9,
   "metadata": {},
   "outputs": [
    {
     "name": "stdout",
     "output_type": "stream",
     "text": [
      "The number 3 is prime\n",
      "The number 5 is prime\n",
      "The number 7 is prime\n",
      "The number 9 is prime\n",
      "The number 11 is prime\n",
      "The number 13 is prime\n",
      "The number 15 is prime\n",
      "The number 17 is prime\n",
      "The number 19 is prime\n",
      "The number 21 is prime\n",
      "The number 23 is prime\n",
      "The number 25 is prime\n",
      "The number 27 is prime\n",
      "The number 29 is prime\n",
      "The number 31 is prime\n",
      "The number 33 is prime\n",
      "The number 35 is prime\n",
      "The number 37 is prime\n",
      "The number 39 is prime\n",
      "The number 41 is prime\n",
      "The number 43 is prime\n",
      "The number 45 is prime\n",
      "The number 47 is prime\n",
      "The number 49 is prime\n",
      "The number 51 is prime\n",
      "The number 53 is prime\n",
      "The number 55 is prime\n",
      "The number 57 is prime\n",
      "The number 59 is prime\n",
      "The number 61 is prime\n",
      "The number 63 is prime\n",
      "The number 65 is prime\n",
      "The number 67 is prime\n",
      "The number 69 is prime\n",
      "The number 71 is prime\n",
      "The number 73 is prime\n",
      "The number 75 is prime\n",
      "The number 77 is prime\n",
      "The number 79 is prime\n",
      "The number 81 is prime\n",
      "The number 83 is prime\n",
      "The number 85 is prime\n",
      "The number 87 is prime\n",
      "The number 89 is prime\n",
      "The number 91 is prime\n",
      "The number 93 is prime\n",
      "The number 95 is prime\n",
      "The number 97 is prime\n",
      "The number 99 is prime\n",
      "The number 101 is prime\n",
      "The number 103 is prime\n",
      "The number 105 is prime\n",
      "The number 107 is prime\n",
      "The number 109 is prime\n",
      "The number 111 is prime\n",
      "The number 113 is prime\n",
      "The number 115 is prime\n",
      "The number 117 is prime\n",
      "The number 119 is prime\n",
      "The number 121 is prime\n",
      "The number 123 is prime\n",
      "The number 125 is prime\n",
      "The number 127 is prime\n",
      "The number 129 is prime\n",
      "The number 131 is prime\n",
      "The number 133 is prime\n",
      "The number 135 is prime\n",
      "The number 137 is prime\n",
      "The number 139 is prime\n",
      "The number 141 is prime\n",
      "The number 143 is prime\n",
      "The number 145 is prime\n",
      "The number 147 is prime\n",
      "The number 149 is prime\n",
      "The number 151 is prime\n",
      "The number 153 is prime\n",
      "The number 155 is prime\n",
      "The number 157 is prime\n",
      "The number 159 is prime\n",
      "The number 161 is prime\n",
      "The number 163 is prime\n",
      "The number 165 is prime\n",
      "The number 167 is prime\n",
      "The number 169 is prime\n",
      "The number 171 is prime\n",
      "The number 173 is prime\n",
      "The number 175 is prime\n",
      "The number 177 is prime\n",
      "The number 179 is prime\n",
      "The number 181 is prime\n",
      "The number 183 is prime\n",
      "The number 185 is prime\n",
      "The number 187 is prime\n",
      "The number 189 is prime\n",
      "The number 191 is prime\n",
      "The number 193 is prime\n",
      "The number 195 is prime\n",
      "The number 197 is prime\n",
      "The number 199 is prime\n",
      "The number 201 is prime\n",
      "The number 203 is prime\n",
      "The number 205 is prime\n",
      "The number 207 is prime\n",
      "The number 209 is prime\n",
      "The number 211 is prime\n",
      "The number 213 is prime\n",
      "The number 215 is prime\n",
      "The number 217 is prime\n",
      "The number 219 is prime\n",
      "The number 221 is prime\n",
      "The number 223 is prime\n",
      "The number 225 is prime\n",
      "The number 227 is prime\n",
      "The number 229 is prime\n",
      "The number 231 is prime\n",
      "The number 233 is prime\n",
      "The number 235 is prime\n",
      "The number 237 is prime\n",
      "The number 239 is prime\n",
      "The number 241 is prime\n",
      "The number 243 is prime\n",
      "The number 245 is prime\n",
      "The number 247 is prime\n",
      "The number 249 is prime\n",
      "The number 251 is prime\n",
      "The number 253 is prime\n",
      "The number 255 is prime\n",
      "The number 257 is prime\n",
      "The number 259 is prime\n",
      "The number 261 is prime\n",
      "The number 263 is prime\n",
      "The number 265 is prime\n",
      "The number 267 is prime\n",
      "The number 269 is prime\n",
      "The number 271 is prime\n",
      "The number 273 is prime\n",
      "The number 275 is prime\n",
      "The number 277 is prime\n",
      "The number 279 is prime\n",
      "The number 281 is prime\n",
      "The number 283 is prime\n",
      "The number 285 is prime\n",
      "The number 287 is prime\n",
      "The number 289 is prime\n",
      "The number 291 is prime\n",
      "The number 293 is prime\n",
      "The number 295 is prime\n",
      "The number 297 is prime\n",
      "The number 299 is prime\n",
      "The number 301 is prime\n",
      "The number 303 is prime\n",
      "The number 305 is prime\n",
      "The number 307 is prime\n",
      "The number 309 is prime\n",
      "The number 311 is prime\n",
      "The number 313 is prime\n",
      "The number 315 is prime\n",
      "The number 317 is prime\n",
      "The number 319 is prime\n",
      "The number 321 is prime\n",
      "The number 323 is prime\n",
      "The number 325 is prime\n",
      "The number 327 is prime\n",
      "The number 329 is prime\n",
      "The number 331 is prime\n",
      "The number 333 is prime\n",
      "The number 335 is prime\n",
      "The number 337 is prime\n",
      "The number 339 is prime\n",
      "The number 341 is prime\n",
      "The number 343 is prime\n",
      "The number 345 is prime\n",
      "The number 347 is prime\n",
      "The number 349 is prime\n",
      "The number 351 is prime\n",
      "The number 353 is prime\n",
      "The number 355 is prime\n",
      "The number 357 is prime\n",
      "The number 359 is prime\n",
      "The number 361 is prime\n",
      "The number 363 is prime\n",
      "The number 365 is prime\n",
      "The number 367 is prime\n",
      "The number 369 is prime\n",
      "The number 371 is prime\n",
      "The number 373 is prime\n",
      "The number 375 is prime\n",
      "The number 377 is prime\n",
      "The number 379 is prime\n",
      "The number 381 is prime\n",
      "The number 383 is prime\n",
      "The number 385 is prime\n",
      "The number 387 is prime\n",
      "The number 389 is prime\n",
      "The number 391 is prime\n",
      "The number 393 is prime\n",
      "The number 395 is prime\n",
      "The number 397 is prime\n",
      "The number 399 is prime\n",
      "The number 401 is prime\n",
      "The number 403 is prime\n",
      "The number 405 is prime\n",
      "The number 407 is prime\n",
      "The number 409 is prime\n",
      "The number 411 is prime\n",
      "The number 413 is prime\n",
      "The number 415 is prime\n",
      "The number 417 is prime\n",
      "The number 419 is prime\n",
      "The number 421 is prime\n",
      "The number 423 is prime\n",
      "The number 425 is prime\n",
      "The number 427 is prime\n",
      "The number 429 is prime\n",
      "The number 431 is prime\n",
      "The number 433 is prime\n",
      "The number 435 is prime\n",
      "The number 437 is prime\n",
      "The number 439 is prime\n",
      "The number 441 is prime\n",
      "The number 443 is prime\n",
      "The number 445 is prime\n",
      "The number 447 is prime\n",
      "The number 449 is prime\n",
      "The number 451 is prime\n",
      "The number 453 is prime\n",
      "The number 455 is prime\n",
      "The number 457 is prime\n",
      "The number 459 is prime\n",
      "The number 461 is prime\n",
      "The number 463 is prime\n",
      "The number 465 is prime\n",
      "The number 467 is prime\n",
      "The number 469 is prime\n",
      "The number 471 is prime\n",
      "The number 473 is prime\n",
      "The number 475 is prime\n",
      "The number 477 is prime\n",
      "The number 479 is prime\n",
      "The number 481 is prime\n",
      "The number 483 is prime\n",
      "The number 485 is prime\n",
      "The number 487 is prime\n",
      "The number 489 is prime\n",
      "The number 491 is prime\n",
      "The number 493 is prime\n",
      "The number 495 is prime\n",
      "The number 497 is prime\n",
      "The number 499 is prime\n",
      "The number 501 is prime\n",
      "The number 503 is prime\n",
      "The number 505 is prime\n",
      "The number 507 is prime\n",
      "The number 509 is prime\n",
      "The number 511 is prime\n",
      "The number 513 is prime\n",
      "The number 515 is prime\n",
      "The number 517 is prime\n",
      "The number 519 is prime\n",
      "The number 521 is prime\n",
      "The number 523 is prime\n",
      "The number 525 is prime\n",
      "The number 527 is prime\n",
      "The number 529 is prime\n",
      "The number 531 is prime\n",
      "The number 533 is prime\n",
      "The number 535 is prime\n",
      "The number 537 is prime\n",
      "The number 539 is prime\n",
      "The number 541 is prime\n",
      "The number 543 is prime\n",
      "The number 545 is prime\n",
      "The number 547 is prime\n",
      "The number 549 is prime\n",
      "The number 551 is prime\n",
      "The number 553 is prime\n",
      "The number 555 is prime\n",
      "The number 557 is prime\n",
      "The number 559 is prime\n",
      "The number 561 is prime\n",
      "The number 563 is prime\n",
      "The number 565 is prime\n",
      "The number 567 is prime\n",
      "The number 569 is prime\n",
      "The number 571 is prime\n",
      "The number 573 is prime\n",
      "The number 575 is prime\n",
      "The number 577 is prime\n",
      "The number 579 is prime\n",
      "The number 581 is prime\n",
      "The number 583 is prime\n",
      "The number 585 is prime\n",
      "The number 587 is prime\n",
      "The number 589 is prime\n",
      "The number 591 is prime\n",
      "The number 593 is prime\n",
      "The number 595 is prime\n",
      "The number 597 is prime\n",
      "The number 599 is prime\n",
      "The number 601 is prime\n",
      "The number 603 is prime\n",
      "The number 605 is prime\n",
      "The number 607 is prime\n",
      "The number 609 is prime\n",
      "The number 611 is prime\n",
      "The number 613 is prime\n",
      "The number 615 is prime\n",
      "The number 617 is prime\n",
      "The number 619 is prime\n",
      "The number 621 is prime\n",
      "The number 623 is prime\n",
      "The number 625 is prime\n",
      "The number 627 is prime\n",
      "The number 629 is prime\n",
      "The number 631 is prime\n",
      "The number 633 is prime\n",
      "The number 635 is prime\n",
      "The number 637 is prime\n",
      "The number 639 is prime\n",
      "The number 641 is prime\n",
      "The number 643 is prime\n",
      "The number 645 is prime\n",
      "The number 647 is prime\n",
      "The number 649 is prime\n",
      "The number 651 is prime\n",
      "The number 653 is prime\n",
      "The number 655 is prime\n",
      "The number 657 is prime\n",
      "The number 659 is prime\n",
      "The number 661 is prime\n",
      "The number 663 is prime\n",
      "The number 665 is prime\n",
      "The number 667 is prime\n",
      "The number 669 is prime\n",
      "The number 671 is prime\n",
      "The number 673 is prime\n",
      "The number 675 is prime\n",
      "The number 677 is prime\n",
      "The number 679 is prime\n",
      "The number 681 is prime\n",
      "The number 683 is prime\n",
      "The number 685 is prime\n",
      "The number 687 is prime\n",
      "The number 689 is prime\n",
      "The number 691 is prime\n",
      "The number 693 is prime\n",
      "The number 695 is prime\n",
      "The number 697 is prime\n",
      "The number 699 is prime\n",
      "The number 701 is prime\n",
      "The number 703 is prime\n",
      "The number 705 is prime\n",
      "The number 707 is prime\n",
      "The number 709 is prime\n",
      "The number 711 is prime\n",
      "The number 713 is prime\n",
      "The number 715 is prime\n",
      "The number 717 is prime\n",
      "The number 719 is prime\n",
      "The number 721 is prime\n",
      "The number 723 is prime\n",
      "The number 725 is prime\n",
      "The number 727 is prime\n",
      "The number 729 is prime\n",
      "The number 731 is prime\n",
      "The number 733 is prime\n",
      "The number 735 is prime\n",
      "The number 737 is prime\n",
      "The number 739 is prime\n",
      "The number 741 is prime\n",
      "The number 743 is prime\n",
      "The number 745 is prime\n",
      "The number 747 is prime\n",
      "The number 749 is prime\n",
      "The number 751 is prime\n",
      "The number 753 is prime\n",
      "The number 755 is prime\n",
      "The number 757 is prime\n",
      "The number 759 is prime\n",
      "The number 761 is prime\n",
      "The number 763 is prime\n",
      "The number 765 is prime\n",
      "The number 767 is prime\n",
      "The number 769 is prime\n",
      "The number 771 is prime\n",
      "The number 773 is prime\n",
      "The number 775 is prime\n",
      "The number 777 is prime\n",
      "The number 779 is prime\n",
      "The number 781 is prime\n",
      "The number 783 is prime\n",
      "The number 785 is prime\n",
      "The number 787 is prime\n",
      "The number 789 is prime\n",
      "The number 791 is prime\n",
      "The number 793 is prime\n",
      "The number 795 is prime\n",
      "The number 797 is prime\n",
      "The number 799 is prime\n",
      "The number 801 is prime\n",
      "The number 803 is prime\n",
      "The number 805 is prime\n",
      "The number 807 is prime\n",
      "The number 809 is prime\n",
      "The number 811 is prime\n",
      "The number 813 is prime\n",
      "The number 815 is prime\n",
      "The number 817 is prime\n",
      "The number 819 is prime\n",
      "The number 821 is prime\n",
      "The number 823 is prime\n",
      "The number 825 is prime\n",
      "The number 827 is prime\n",
      "The number 829 is prime\n",
      "The number 831 is prime\n",
      "The number 833 is prime\n",
      "The number 835 is prime\n",
      "The number 837 is prime\n",
      "The number 839 is prime\n",
      "The number 841 is prime\n",
      "The number 843 is prime\n",
      "The number 845 is prime\n",
      "The number 847 is prime\n",
      "The number 849 is prime\n",
      "The number 851 is prime\n",
      "The number 853 is prime\n",
      "The number 855 is prime\n",
      "The number 857 is prime\n",
      "The number 859 is prime\n",
      "The number 861 is prime\n",
      "The number 863 is prime\n",
      "The number 865 is prime\n",
      "The number 867 is prime\n",
      "The number 869 is prime\n",
      "The number 871 is prime\n",
      "The number 873 is prime\n",
      "The number 875 is prime\n",
      "The number 877 is prime\n",
      "The number 879 is prime\n",
      "The number 881 is prime\n",
      "The number 883 is prime\n",
      "The number 885 is prime\n",
      "The number 887 is prime\n",
      "The number 889 is prime\n",
      "The number 891 is prime\n",
      "The number 893 is prime\n",
      "The number 895 is prime\n",
      "The number 897 is prime\n",
      "The number 899 is prime\n",
      "The number 901 is prime\n",
      "The number 903 is prime\n",
      "The number 905 is prime\n",
      "The number 907 is prime\n",
      "The number 909 is prime\n",
      "The number 911 is prime\n",
      "The number 913 is prime\n",
      "The number 915 is prime\n",
      "The number 917 is prime\n",
      "The number 919 is prime\n",
      "The number 921 is prime\n",
      "The number 923 is prime\n",
      "The number 925 is prime\n",
      "The number 927 is prime\n",
      "The number 929 is prime\n",
      "The number 931 is prime\n",
      "The number 933 is prime\n",
      "The number 935 is prime\n",
      "The number 937 is prime\n",
      "The number 939 is prime\n",
      "The number 941 is prime\n",
      "The number 943 is prime\n",
      "The number 945 is prime\n",
      "The number 947 is prime\n",
      "The number 949 is prime\n",
      "The number 951 is prime\n",
      "The number 953 is prime\n",
      "The number 955 is prime\n",
      "The number 957 is prime\n",
      "The number 959 is prime\n",
      "The number 961 is prime\n",
      "The number 963 is prime\n",
      "The number 965 is prime\n",
      "The number 967 is prime\n",
      "The number 969 is prime\n",
      "The number 971 is prime\n",
      "The number 973 is prime\n",
      "The number 975 is prime\n",
      "The number 977 is prime\n",
      "The number 979 is prime\n",
      "The number 981 is prime\n",
      "The number 983 is prime\n",
      "The number 985 is prime\n",
      "The number 987 is prime\n",
      "The number 989 is prime\n",
      "The number 991 is prime\n",
      "The number 993 is prime\n",
      "The number 995 is prime\n",
      "The number 997 is prime\n",
      "The number 999 is prime\n"
     ]
    }
   ],
   "source": [
    "# Is Prime\n",
    "for i in range(3,1001):\n",
    "    for j in range(2, i+1):\n",
    "        if(i%j == 0 and i != j):\n",
    "            break\n",
    "        else:\n",
    "            print(\"The number %s is prime\"%i)\n",
    "            break\n",
    "            \n",
    "            \n",
    "        \n",
    "            \n"
   ]
  },
  {
   "cell_type": "code",
   "execution_count": 22,
   "metadata": {},
   "outputs": [
    {
     "name": "stdout",
     "output_type": "stream",
     "text": [
      "3\n",
      "5\n",
      "7\n",
      "11\n",
      "13\n",
      "17\n",
      "19\n",
      "23\n",
      "29\n",
      "31\n",
      "37\n",
      "41\n",
      "43\n",
      "47\n",
      "53\n",
      "59\n",
      "61\n",
      "67\n",
      "71\n",
      "73\n",
      "79\n",
      "83\n",
      "89\n",
      "97\n",
      "101\n",
      "103\n",
      "107\n",
      "109\n",
      "113\n",
      "127\n",
      "131\n",
      "137\n",
      "139\n",
      "149\n",
      "151\n",
      "157\n",
      "163\n",
      "167\n",
      "173\n",
      "179\n",
      "181\n",
      "191\n",
      "193\n",
      "197\n",
      "199\n",
      "211\n",
      "223\n",
      "227\n",
      "229\n",
      "233\n",
      "239\n",
      "241\n",
      "251\n",
      "257\n",
      "263\n",
      "269\n",
      "271\n",
      "277\n",
      "281\n",
      "283\n",
      "293\n",
      "307\n",
      "311\n",
      "313\n",
      "317\n",
      "331\n",
      "337\n",
      "347\n",
      "349\n",
      "353\n",
      "359\n",
      "367\n",
      "373\n",
      "379\n",
      "383\n",
      "389\n",
      "397\n",
      "401\n",
      "409\n",
      "419\n",
      "421\n",
      "431\n",
      "433\n",
      "439\n",
      "443\n",
      "449\n",
      "457\n",
      "461\n",
      "463\n",
      "467\n",
      "479\n",
      "487\n",
      "491\n",
      "499\n",
      "503\n",
      "509\n",
      "521\n",
      "523\n",
      "541\n",
      "547\n",
      "557\n",
      "563\n",
      "569\n",
      "571\n",
      "577\n",
      "587\n",
      "593\n",
      "599\n",
      "601\n",
      "607\n",
      "613\n",
      "617\n",
      "619\n",
      "631\n",
      "641\n",
      "643\n",
      "647\n",
      "653\n",
      "659\n",
      "661\n",
      "673\n",
      "677\n",
      "683\n",
      "691\n",
      "701\n",
      "709\n",
      "719\n",
      "727\n",
      "733\n",
      "739\n",
      "743\n",
      "751\n",
      "757\n",
      "761\n",
      "769\n",
      "773\n",
      "787\n",
      "797\n",
      "809\n",
      "811\n",
      "821\n",
      "823\n",
      "827\n",
      "829\n",
      "839\n",
      "853\n",
      "857\n",
      "859\n",
      "863\n",
      "877\n",
      "881\n",
      "883\n",
      "887\n",
      "907\n",
      "911\n",
      "919\n",
      "929\n",
      "937\n",
      "941\n",
      "947\n",
      "953\n",
      "967\n",
      "971\n",
      "977\n",
      "983\n",
      "991\n",
      "997\n"
     ]
    }
   ],
   "source": [
    "check = 3\n",
    "prime = 3\n",
    "prime_list = []\n",
    "while (prime < 1000 and prime != 997):\n",
    "    isnotprime = True\n",
    "    for j in range(2, check):\n",
    "        if(check%j == 0):\n",
    "            isnotprime = False\n",
    "            break\n",
    "    if(isnotprime):\n",
    "        print(check)\n",
    "        prime_list.append(check)\n",
    "        prime = check\n",
    "    check = check +1\n",
    "            "
   ]
  },
  {
   "cell_type": "markdown",
   "metadata": {},
   "source": [
    "##  Lists"
   ]
  },
  {
   "cell_type": "code",
   "execution_count": 5,
   "metadata": {},
   "outputs": [],
   "source": [
    "mylist = [\"String1\",\"String3\",\"String3\"]"
   ]
  },
  {
   "cell_type": "code",
   "execution_count": 6,
   "metadata": {},
   "outputs": [],
   "source": [
    "mylist1 = [1,2,3,4,5]\n",
    "mylist2 = [1.1,2.2,3.3,4.4,5.5]"
   ]
  },
  {
   "cell_type": "code",
   "execution_count": 7,
   "metadata": {},
   "outputs": [
    {
     "name": "stdout",
     "output_type": "stream",
     "text": [
      "['String1', 'String3', 'String3']\n"
     ]
    }
   ],
   "source": [
    "print(mylist)"
   ]
  },
  {
   "cell_type": "code",
   "execution_count": 9,
   "metadata": {},
   "outputs": [
    {
     "name": "stdout",
     "output_type": "stream",
     "text": [
      "String1\n",
      "String3\n",
      "String3\n"
     ]
    }
   ],
   "source": [
    "for i in range(0,len(mylist)):\n",
    "    print(mylist[i])"
   ]
  },
  {
   "cell_type": "code",
   "execution_count": 11,
   "metadata": {},
   "outputs": [
    {
     "data": {
      "text/plain": [
       "[1, 2, 3]"
      ]
     },
     "execution_count": 11,
     "metadata": {},
     "output_type": "execute_result"
    }
   ],
   "source": [
    "mylist1[0:3]"
   ]
  },
  {
   "cell_type": "code",
   "execution_count": 12,
   "metadata": {},
   "outputs": [
    {
     "data": {
      "text/plain": [
       "True"
      ]
     },
     "execution_count": 12,
     "metadata": {},
     "output_type": "execute_result"
    }
   ],
   "source": [
    "1 in mylist1"
   ]
  },
  {
   "cell_type": "code",
   "execution_count": 13,
   "metadata": {},
   "outputs": [
    {
     "name": "stdout",
     "output_type": "stream",
     "text": [
      "1\n",
      "2\n",
      "3\n",
      "4\n",
      "5\n"
     ]
    }
   ],
   "source": [
    "for x in mylist1:\n",
    "    print(x)"
   ]
  },
  {
   "cell_type": "code",
   "execution_count": 15,
   "metadata": {},
   "outputs": [],
   "source": [
    "mylist3 = [\"Charlie\",\"red\",42, 1.8]"
   ]
  },
  {
   "cell_type": "code",
   "execution_count": 17,
   "metadata": {},
   "outputs": [
    {
     "data": {
      "text/plain": [
       "['Charlie', 'red', 42, 1.8]"
      ]
     },
     "execution_count": 17,
     "metadata": {},
     "output_type": "execute_result"
    }
   ],
   "source": [
    "mylist3"
   ]
  },
  {
   "cell_type": "code",
   "execution_count": 20,
   "metadata": {},
   "outputs": [
    {
     "name": "stdout",
     "output_type": "stream",
     "text": [
      "<class 'str'>\n",
      "<class 'str'>\n",
      "<class 'int'>\n",
      "<class 'float'>\n"
     ]
    }
   ],
   "source": [
    "for x in mylist3:\n",
    "    print(type(x))"
   ]
  },
  {
   "cell_type": "code",
   "execution_count": 21,
   "metadata": {},
   "outputs": [],
   "source": [
    "# del list[2]  is to delete element in 2 position"
   ]
  },
  {
   "cell_type": "code",
   "execution_count": 32,
   "metadata": {},
   "outputs": [
    {
     "name": "stdout",
     "output_type": "stream",
     "text": [
      "[0, 1, 4, 9, 16, 25, 36, 49, 64, 81, 100, 121, 144, 169, 196, 225, 256, 289, 324, 361, 400, 441, 484, 529, 576, 625, 676, 729, 784, 841, 900, 961, 1024, 1089, 1156, 1225, 1296, 1369, 1444, 1521, 1600, 1681, 1764, 1849, 1936, 2025, 2116, 2209, 2304, 2401, 2500, 2601, 2704, 2809, 2916, 3025, 3136, 3249, 3364, 3481, 3600, 3721, 3844, 3969, 4096, 4225, 4356, 4489, 4624, 4761, 4900, 5041, 5184, 5329, 5476, 5625, 5776, 5929, 6084, 6241, 6400, 6561, 6724, 6889, 7056, 7225, 7396, 7569, 7744, 7921, 8100, 8281, 8464, 8649, 8836, 9025, 9216, 9409, 9604, 9801, 10000]\n"
     ]
    }
   ],
   "source": [
    "y_list = []\n",
    "y1_list = []\n",
    "for x in range(0,101):\n",
    "    y_list.append(x*x)\n",
    "    y1_list.append(x*x*x)\n",
    "print(y_list)"
   ]
  },
  {
   "cell_type": "markdown",
   "metadata": {},
   "source": [
    "## Functions "
   ]
  },
  {
   "cell_type": "code",
   "execution_count": 34,
   "metadata": {},
   "outputs": [
    {
     "data": {
      "text/plain": [
       "4"
      ]
     },
     "execution_count": 34,
     "metadata": {},
     "output_type": "execute_result"
    }
   ],
   "source": [
    "def x2(x):\n",
    "    return x**2\n",
    "x2(2)"
   ]
  },
  {
   "cell_type": "code",
   "execution_count": 24,
   "metadata": {},
   "outputs": [
    {
     "data": {
      "text/plain": [
       "[3,\n",
       " 5,\n",
       " 7,\n",
       " 11,\n",
       " 13,\n",
       " 17,\n",
       " 19,\n",
       " 23,\n",
       " 29,\n",
       " 31,\n",
       " 37,\n",
       " 41,\n",
       " 43,\n",
       " 47,\n",
       " 53,\n",
       " 59,\n",
       " 61,\n",
       " 67,\n",
       " 71,\n",
       " 73,\n",
       " 79,\n",
       " 83,\n",
       " 89,\n",
       " 97,\n",
       " 101,\n",
       " 103,\n",
       " 107,\n",
       " 109,\n",
       " 113,\n",
       " 127,\n",
       " 131,\n",
       " 137,\n",
       " 139,\n",
       " 149,\n",
       " 151,\n",
       " 157,\n",
       " 163,\n",
       " 167,\n",
       " 173,\n",
       " 179,\n",
       " 181,\n",
       " 191,\n",
       " 193,\n",
       " 197,\n",
       " 199,\n",
       " 211,\n",
       " 223,\n",
       " 227,\n",
       " 229,\n",
       " 233,\n",
       " 239,\n",
       " 241,\n",
       " 251,\n",
       " 257,\n",
       " 263,\n",
       " 269,\n",
       " 271,\n",
       " 277,\n",
       " 281,\n",
       " 283,\n",
       " 293,\n",
       " 307,\n",
       " 311,\n",
       " 313,\n",
       " 317,\n",
       " 331,\n",
       " 337,\n",
       " 347,\n",
       " 349,\n",
       " 353,\n",
       " 359,\n",
       " 367,\n",
       " 373,\n",
       " 379,\n",
       " 383,\n",
       " 389,\n",
       " 397,\n",
       " 401,\n",
       " 409,\n",
       " 419,\n",
       " 421,\n",
       " 431,\n",
       " 433,\n",
       " 439,\n",
       " 443,\n",
       " 449,\n",
       " 457,\n",
       " 461,\n",
       " 463,\n",
       " 467,\n",
       " 479,\n",
       " 487,\n",
       " 491,\n",
       " 499,\n",
       " 503,\n",
       " 509,\n",
       " 521,\n",
       " 523,\n",
       " 541,\n",
       " 547,\n",
       " 557,\n",
       " 563,\n",
       " 569,\n",
       " 571,\n",
       " 577,\n",
       " 587,\n",
       " 593,\n",
       " 599,\n",
       " 601,\n",
       " 607,\n",
       " 613,\n",
       " 617,\n",
       " 619,\n",
       " 631,\n",
       " 641,\n",
       " 643,\n",
       " 647,\n",
       " 653,\n",
       " 659,\n",
       " 661,\n",
       " 673,\n",
       " 677,\n",
       " 683,\n",
       " 691,\n",
       " 701,\n",
       " 709,\n",
       " 719,\n",
       " 727,\n",
       " 733,\n",
       " 739,\n",
       " 743,\n",
       " 751,\n",
       " 757,\n",
       " 761,\n",
       " 769,\n",
       " 773,\n",
       " 787,\n",
       " 797,\n",
       " 809,\n",
       " 811,\n",
       " 821,\n",
       " 823,\n",
       " 827,\n",
       " 829,\n",
       " 839,\n",
       " 853,\n",
       " 857,\n",
       " 859,\n",
       " 863,\n",
       " 877,\n",
       " 881,\n",
       " 883,\n",
       " 887,\n",
       " 907,\n",
       " 911,\n",
       " 919,\n",
       " 929,\n",
       " 937,\n",
       " 941,\n",
       " 947,\n",
       " 953,\n",
       " 967,\n",
       " 971,\n",
       " 977,\n",
       " 983,\n",
       " 991,\n",
       " 997]"
      ]
     },
     "execution_count": 24,
     "metadata": {},
     "output_type": "execute_result"
    }
   ],
   "source": [
    "prime_list\n"
   ]
  },
  {
   "cell_type": "code",
   "execution_count": 25,
   "metadata": {},
   "outputs": [],
   "source": [
    "#def nextprime(start):\n",
    "    #find the next prime number after *start*\n",
    "def generateprimes(number_of_primes):\n",
    "    #generate *count* number of primes\n",
    "    check = 2\n",
    "    count = 0\n",
    "    while(count < number_of_primes):\n",
    "        check +=1\n",
    "        isnotprime = True\n",
    "        for i in range(2, check):\n",
    "            if(check%i == 0):\n",
    "                isnotprime = False\n",
    "                break\n",
    "        if(isnotprime):\n",
    "            print(check)\n",
    "            count = count +1\n"
   ]
  },
  {
   "cell_type": "code",
   "execution_count": 27,
   "metadata": {},
   "outputs": [
    {
     "name": "stdout",
     "output_type": "stream",
     "text": [
      "3\n",
      "5\n",
      "7\n",
      "11\n",
      "13\n",
      "17\n",
      "19\n",
      "23\n",
      "29\n",
      "31\n",
      "37\n",
      "41\n",
      "43\n",
      "47\n",
      "53\n",
      "59\n",
      "61\n",
      "67\n",
      "71\n",
      "73\n",
      "79\n",
      "83\n",
      "89\n",
      "97\n",
      "101\n",
      "103\n",
      "107\n",
      "109\n",
      "113\n",
      "127\n",
      "131\n",
      "137\n",
      "139\n",
      "149\n",
      "151\n",
      "157\n",
      "163\n",
      "167\n",
      "173\n",
      "179\n",
      "181\n",
      "191\n",
      "193\n",
      "197\n",
      "199\n",
      "211\n",
      "223\n",
      "227\n",
      "229\n",
      "233\n",
      "239\n",
      "241\n",
      "251\n",
      "257\n",
      "263\n",
      "269\n",
      "271\n",
      "277\n",
      "281\n",
      "283\n",
      "293\n",
      "307\n",
      "311\n",
      "313\n",
      "317\n",
      "331\n",
      "337\n",
      "347\n",
      "349\n",
      "353\n",
      "359\n",
      "367\n",
      "373\n",
      "379\n",
      "383\n",
      "389\n",
      "397\n",
      "401\n",
      "409\n",
      "419\n",
      "421\n",
      "431\n",
      "433\n",
      "439\n",
      "443\n",
      "449\n",
      "457\n",
      "461\n",
      "463\n",
      "467\n",
      "479\n",
      "487\n",
      "491\n",
      "499\n",
      "503\n",
      "509\n",
      "521\n",
      "523\n",
      "541\n",
      "547\n"
     ]
    }
   ],
   "source": [
    "generateprimes(100)"
   ]
  },
  {
   "cell_type": "code",
   "execution_count": 25,
   "metadata": {},
   "outputs": [],
   "source": [
    "def next_prime(start):\n",
    "    #return the next prime number after *start*\n",
    "    isnotprime = 1\n",
    "    check = start+1\n",
    "    while(isnotprime == 1):\n",
    "        check = check+1\n",
    "        isnotprime = 0\n",
    "        for i in range(2,check):\n",
    "            if(check%i == 0):\n",
    "                isnotprime = 1\n",
    "                break\n",
    "       \n",
    "    if(isnotprime == 0):\n",
    "        print(check)\n",
    "    return check\n",
    "            \n",
    "\n",
    "    "
   ]
  },
  {
   "cell_type": "code",
   "execution_count": 15,
   "metadata": {},
   "outputs": [
    {
     "name": "stdout",
     "output_type": "stream",
     "text": [
      "19\n",
      "19\n"
     ]
    }
   ],
   "source": [
    "y = next_prime(17)\n",
    "print(y)"
   ]
  },
  {
   "cell_type": "code",
   "execution_count": 33,
   "metadata": {},
   "outputs": [
    {
     "name": "stdout",
     "output_type": "stream",
     "text": [
      "5\n",
      "7\n",
      "7 - 5 = 2\n",
      "11\n",
      "11 - 7 = 4\n",
      "13\n",
      "13 - 11 = 2\n",
      "17\n",
      "17 - 13 = 4\n",
      "19\n",
      "19 - 17 = 2\n",
      "23\n",
      "23 - 19 = 4\n",
      "29\n",
      "29 - 23 = 6\n",
      "31\n",
      "31 - 29 = 2\n",
      "37\n",
      "37 - 31 = 6\n",
      "41\n",
      "41 - 37 = 4\n",
      "43\n",
      "43 - 41 = 2\n",
      "47\n",
      "47 - 43 = 4\n",
      "53\n",
      "53 - 47 = 6\n",
      "59\n",
      "59 - 53 = 6\n",
      "61\n",
      "61 - 59 = 2\n",
      "67\n",
      "67 - 61 = 6\n",
      "71\n",
      "71 - 67 = 4\n",
      "73\n",
      "73 - 71 = 2\n",
      "79\n",
      "79 - 73 = 6\n",
      "83\n",
      "83 - 79 = 4\n",
      "89\n",
      "89 - 83 = 6\n",
      "97\n",
      "97 - 89 = 8\n",
      "101\n",
      "101 - 97 = 4\n",
      "103\n",
      "103 - 101 = 2\n",
      "107\n",
      "107 - 103 = 4\n",
      "109\n",
      "109 - 107 = 2\n",
      "113\n",
      "113 - 109 = 4\n",
      "127\n",
      "127 - 113 = 14\n",
      "131\n",
      "131 - 127 = 4\n",
      "137\n",
      "137 - 131 = 6\n",
      "139\n",
      "139 - 137 = 2\n",
      "149\n",
      "149 - 139 = 10\n",
      "151\n",
      "151 - 149 = 2\n",
      "157\n",
      "157 - 151 = 6\n",
      "163\n",
      "163 - 157 = 6\n",
      "167\n",
      "167 - 163 = 4\n",
      "173\n",
      "173 - 167 = 6\n",
      "179\n",
      "179 - 173 = 6\n",
      "181\n",
      "181 - 179 = 2\n",
      "191\n",
      "191 - 181 = 10\n",
      "193\n",
      "193 - 191 = 2\n",
      "197\n",
      "197 - 193 = 4\n",
      "199\n",
      "199 - 197 = 2\n",
      "211\n",
      "211 - 199 = 12\n",
      "223\n",
      "223 - 211 = 12\n",
      "227\n",
      "227 - 223 = 4\n",
      "229\n",
      "229 - 227 = 2\n",
      "233\n",
      "233 - 229 = 4\n",
      "239\n",
      "239 - 233 = 6\n",
      "241\n",
      "241 - 239 = 2\n",
      "251\n",
      "251 - 241 = 10\n",
      "257\n",
      "257 - 251 = 6\n",
      "263\n",
      "263 - 257 = 6\n",
      "269\n",
      "269 - 263 = 6\n",
      "271\n",
      "271 - 269 = 2\n",
      "277\n",
      "277 - 271 = 6\n",
      "281\n",
      "281 - 277 = 4\n",
      "283\n",
      "283 - 281 = 2\n",
      "293\n",
      "293 - 283 = 10\n",
      "307\n",
      "307 - 293 = 14\n",
      "311\n",
      "311 - 307 = 4\n",
      "313\n",
      "313 - 311 = 2\n",
      "317\n",
      "317 - 313 = 4\n",
      "331\n",
      "331 - 317 = 14\n",
      "337\n",
      "337 - 331 = 6\n",
      "347\n",
      "347 - 337 = 10\n",
      "349\n",
      "349 - 347 = 2\n",
      "353\n",
      "353 - 349 = 4\n",
      "359\n",
      "359 - 353 = 6\n",
      "367\n",
      "367 - 359 = 8\n",
      "373\n",
      "373 - 367 = 6\n",
      "379\n",
      "379 - 373 = 6\n",
      "383\n",
      "383 - 379 = 4\n",
      "389\n",
      "389 - 383 = 6\n",
      "397\n",
      "397 - 389 = 8\n",
      "401\n",
      "401 - 397 = 4\n",
      "409\n",
      "409 - 401 = 8\n",
      "419\n",
      "419 - 409 = 10\n",
      "421\n",
      "421 - 419 = 2\n",
      "431\n",
      "431 - 421 = 10\n",
      "433\n",
      "433 - 431 = 2\n",
      "439\n",
      "439 - 433 = 6\n",
      "443\n",
      "443 - 439 = 4\n",
      "449\n",
      "449 - 443 = 6\n",
      "457\n",
      "457 - 449 = 8\n",
      "461\n",
      "461 - 457 = 4\n",
      "463\n",
      "463 - 461 = 2\n",
      "467\n",
      "467 - 463 = 4\n",
      "479\n",
      "479 - 467 = 12\n",
      "487\n",
      "487 - 479 = 8\n",
      "491\n",
      "491 - 487 = 4\n",
      "499\n",
      "499 - 491 = 8\n",
      "503\n",
      "503 - 499 = 4\n",
      "509\n",
      "509 - 503 = 6\n",
      "521\n",
      "521 - 509 = 12\n",
      "523\n",
      "523 - 521 = 2\n",
      "541\n",
      "541 - 523 = 18\n",
      "547\n",
      "547 - 541 = 6\n",
      "557\n",
      "557 - 547 = 10\n",
      "563\n",
      "563 - 557 = 6\n",
      "569\n",
      "569 - 563 = 6\n",
      "571\n",
      "571 - 569 = 2\n",
      "577\n",
      "577 - 571 = 6\n",
      "587\n",
      "587 - 577 = 10\n",
      "593\n",
      "593 - 587 = 6\n",
      "599\n",
      "599 - 593 = 6\n",
      "601\n",
      "601 - 599 = 2\n",
      "607\n",
      "607 - 601 = 6\n",
      "613\n",
      "613 - 607 = 6\n",
      "617\n",
      "617 - 613 = 4\n",
      "619\n",
      "619 - 617 = 2\n",
      "631\n",
      "631 - 619 = 12\n",
      "641\n",
      "641 - 631 = 10\n",
      "643\n",
      "643 - 641 = 2\n",
      "647\n",
      "647 - 643 = 4\n",
      "653\n",
      "653 - 647 = 6\n",
      "659\n",
      "659 - 653 = 6\n",
      "661\n",
      "661 - 659 = 2\n",
      "673\n",
      "673 - 661 = 12\n",
      "677\n",
      "677 - 673 = 4\n",
      "683\n",
      "683 - 677 = 6\n",
      "691\n",
      "691 - 683 = 8\n",
      "701\n",
      "701 - 691 = 10\n",
      "709\n",
      "709 - 701 = 8\n",
      "719\n",
      "719 - 709 = 10\n",
      "727\n",
      "727 - 719 = 8\n",
      "733\n",
      "733 - 727 = 6\n",
      "739\n",
      "739 - 733 = 6\n",
      "743\n",
      "743 - 739 = 4\n",
      "751\n",
      "751 - 743 = 8\n",
      "757\n",
      "757 - 751 = 6\n",
      "761\n",
      "761 - 757 = 4\n",
      "769\n",
      "769 - 761 = 8\n",
      "773\n",
      "773 - 769 = 4\n",
      "787\n",
      "787 - 773 = 14\n",
      "797\n",
      "797 - 787 = 10\n",
      "809\n",
      "809 - 797 = 12\n",
      "811\n",
      "811 - 809 = 2\n",
      "821\n",
      "821 - 811 = 10\n",
      "823\n",
      "823 - 821 = 2\n",
      "827\n",
      "827 - 823 = 4\n",
      "829\n",
      "829 - 827 = 2\n",
      "839\n",
      "839 - 829 = 10\n",
      "853\n",
      "853 - 839 = 14\n",
      "857\n",
      "857 - 853 = 4\n",
      "859\n",
      "859 - 857 = 2\n",
      "863\n",
      "863 - 859 = 4\n",
      "877\n",
      "877 - 863 = 14\n",
      "881\n",
      "881 - 877 = 4\n",
      "883\n",
      "883 - 881 = 2\n",
      "887\n",
      "887 - 883 = 4\n",
      "907\n",
      "907 - 887 = 20\n"
     ]
    }
   ],
   "source": [
    "y = next_prime(2)\n",
    "count = 0\n",
    "prime_gap = 0\n",
    "while(prime_gap < 20):\n",
    "    y_old = y\n",
    "    y = next_prime(y)\n",
    "    prime_gap = y-y_old\n",
    "    print(str(y)+ \" - \"+ str(y_old) + \" = \" +str(prime_gap))\n",
    "    count = count +1"
   ]
  },
  {
   "cell_type": "markdown",
   "metadata": {},
   "source": [
    "## Anonymous Functions"
   ]
  },
  {
   "cell_type": "code",
   "execution_count": 35,
   "metadata": {},
   "outputs": [],
   "source": [
    "x = lambda a: a*10"
   ]
  },
  {
   "cell_type": "code",
   "execution_count": 37,
   "metadata": {},
   "outputs": [
    {
     "name": "stdout",
     "output_type": "stream",
     "text": [
      "<function <lambda> at 0x7fd6a8938d08>\n"
     ]
    }
   ],
   "source": [
    "print(x)"
   ]
  },
  {
   "cell_type": "code",
   "execution_count": 41,
   "metadata": {},
   "outputs": [
    {
     "name": "stdout",
     "output_type": "stream",
     "text": [
      "1000\n"
     ]
    }
   ],
   "source": [
    "print(x(100))"
   ]
  },
  {
   "cell_type": "code",
   "execution_count": 44,
   "metadata": {},
   "outputs": [
    {
     "name": "stdout",
     "output_type": "stream",
     "text": [
      "50\n"
     ]
    }
   ],
   "source": [
    "def myfunc(x):\n",
    "    return lambda a: a*x\n",
    "y = myfunc(10)\n",
    "print(y(5))"
   ]
  },
  {
   "cell_type": "markdown",
   "metadata": {},
   "source": [
    "### Monte Carlo Algorithm"
   ]
  },
  {
   "cell_type": "code",
   "execution_count": 48,
   "metadata": {},
   "outputs": [
    {
     "name": "stdout",
     "output_type": "stream",
     "text": [
      "3.1418004\n"
     ]
    }
   ],
   "source": [
    "import random\n",
    "def monte_carlo_near_pi(numSamples):\n",
    "    counter = 0\n",
    "    for aux in range(0,numSamples):\n",
    "        x = random.uniform(-1,1)\n",
    "        y = random.uniform(-1,1)\n",
    "        if(x*x + y*y < 1):\n",
    "            counter +=1\n",
    "    return 4.0 * counter / numSamples\n",
    "print(str(monte_carlo_near_pi(10000000)))"
   ]
  }
 ],
 "metadata": {
  "kernelspec": {
   "display_name": "Python 3",
   "language": "python",
   "name": "python3"
  }
 },
 "nbformat": 4,
 "nbformat_minor": 2
}
